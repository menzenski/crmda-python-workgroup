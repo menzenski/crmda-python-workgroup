{
 "cells": [
  {
   "cell_type": "markdown",
   "metadata": {
    "slideshow": {
     "slide_type": "slide"
    }
   },
   "source": [
    "<div style=\"text-align: center;\">\n",
    "\n",
    "<h2 style=\"margin-bottom: 2rem; margin-top: 2rem;\">CRMDA Python Workgroup</h2>\n",
    "\n",
    "<h1 style=\"margin-bottom: 2rem; margin-top: 2rem;\">Regular Expressions</h1>\n",
    "\n",
    "<h4 style=\"margin-bottom: 2rem; margin-top: 2rem;\">(<em>Automate the Boring Stuff with Python</em> Chapter 7)</h4>\n",
    "\n",
    "<p style=\"margin-bottom: 2rem; margin-top: 2rem; text-align: center;\">Matt Menzenski</p>\n",
    "\n",
    "</div>"
   ]
  },
  {
   "cell_type": "markdown",
   "metadata": {
    "slideshow": {
     "slide_type": "slide"
    }
   },
   "source": [
    "<img style=\"margin: 0 auto;\" src=\"http://imgs.xkcd.com/comics/regular_expressions.png\">"
   ]
  },
  {
   "cell_type": "markdown",
   "metadata": {
    "slideshow": {
     "slide_type": "slide"
    }
   },
   "source": [
    "<div style=\"margin: 0 auto; max-width: 80%\">\n",
    "<h1>What are Regular Expressions?</h1>\n",
    "\n",
    "<p>Regular Expressions, at their most basic, are sequences of characters that define **search patterns**. If you can define a pattern using a regular expression (or *regex* for short), you can use it to search a text for character sequences that fit that pattern, and do something with them.</p>\n",
    "\n",
    "<p>Regular expressions date back to the 1950s, and are implemented in many programming languages. Some, like Perl, JavaScript, and Ruby, have them built into the language, while others, like Python, Java, C, and C++, import them from standard libraries (i.e., you need to call <code>import re</code> in order to use them, but the <code>re</code> module is included with every Python installation).</p>\n",
    "</div>"
   ]
  },
  {
   "cell_type": "markdown",
   "metadata": {
    "slideshow": {
     "slide_type": "slide"
    }
   },
   "source": [
    "<div style=\"margin: 0 auto; max-width: 80%\">\n",
    "\n",
    "<p>Regular Expressions in Python have some nifty extra powers that aren't found in the regex implementations of other languages, but the vast majority of regular expression syntax is similar if not the same across implementations. So if you go on to program in Ruby, or C, or Java, the knowledge from this chapter should transfer over.</p>\n",
    "\n",
    "</div>"
   ]
  },
  {
   "cell_type": "markdown",
   "metadata": {
    "slideshow": {
     "slide_type": "slide"
    }
   },
   "source": [
    "<div style=\"margin: 0 auto; max-width: 80%\">\n",
    "\n",
    "<h1>When should you use regular expressions?</h1>\n",
    "\n",
    "<p>Only use regular expressions if you have no other options.</p>\n",
    "\n",
    "</div>"
   ]
  },
  {
   "cell_type": "markdown",
   "metadata": {
    "slideshow": {
     "slide_type": "fragment"
    }
   },
   "source": [
    "<img style=\"margin: 0 auto;\" src=\"http://imgs.xkcd.com/comics/perl_problems.png\">\n",
    "\n",
    "<div style=\"margin: 0 auto; max-width: 80%\">\n",
    "\n",
    "<blockquote style=\"margin: 0 auto;\">\n",
    "    <p>Some people, when confronted with a problem, think \"I know, I'll use regular expressions.\" Now they have two problems.</p>\n",
    "    <footer>Jamie Zawinski (1997)</footer>\n",
    "</blockquote>\n",
    "\n",
    "</div>"
   ]
  },
  {
   "cell_type": "markdown",
   "metadata": {
    "slideshow": {
     "slide_type": "slide"
    }
   },
   "source": [
    "<div style=\"margin: 0 auto; max-width: 80%\">\n",
    "\n",
    "<h1>Case Study: Finding Phone Numbers in a String</h1>\n",
    "\n",
    "<p>The <code>isPhoneNumber</code> function steps through a supplied text character-by-character, and if it finds anything not compatible with a phone number (e.g., <code>415-555-4242</code>)</p>\n",
    "\n",
    "</div>"
   ]
  },
  {
   "cell_type": "code",
   "execution_count": 10,
   "metadata": {
    "collapsed": true,
    "slideshow": {
     "slide_type": "slide"
    }
   },
   "outputs": [],
   "source": [
    "def isPhoneNumber(text):\n",
    "    \"\"\"Return True if text is a valid phone number, False otherwise.\"\"\"\n",
    "    if len(text) != 12:\n",
    "        return False\n",
    "    for i in range(0, 3):\n",
    "        if not text[i].isdigit():\n",
    "            return False\n",
    "    if text[3] != '-':\n",
    "        return False\n",
    "    for i in range(4, 7):\n",
    "        if not text[i].isdigit():\n",
    "            return False\n",
    "    if text[7] != '-':\n",
    "        return False\n",
    "    for i in range(8, 12):\n",
    "        if not text[i].isdigit():\n",
    "            return False\n",
    "    return True\n",
    "    "
   ]
  },
  {
   "cell_type": "code",
   "execution_count": 12,
   "metadata": {
    "collapsed": false,
    "slideshow": {
     "slide_type": "slide"
    }
   },
   "outputs": [
    {
     "name": "stdout",
     "output_type": "stream",
     "text": [
      "\"415-555-4242\" is a phone number:\n",
      "True\n",
      "\n",
      "\"moshi-moshi\" is a phone number:\n",
      "False\n",
      "\n",
      "\"415-555-4c42\" is a phone number:\n",
      "False\n"
     ]
    }
   ],
   "source": [
    "print('\"415-555-4242\" is a phone number:')\n",
    "print(isPhoneNumber('415-555-4242'))\n",
    "\n",
    "print('\\n\"moshi-moshi\" is a phone number:')\n",
    "print(isPhoneNumber('moshi-moshi'))\n",
    "\n",
    "print('\\n\"415-555-4c42\" is a phone number:')\n",
    "print(isPhoneNumber('415-555-442'))"
   ]
  },
  {
   "cell_type": "code",
   "execution_count": 13,
   "metadata": {
    "collapsed": false,
    "slideshow": {
     "slide_type": "slide"
    }
   },
   "outputs": [
    {
     "name": "stdout",
     "output_type": "stream",
     "text": [
      "Phone number found: 415-555-1011\n",
      "Phone number found: 415-555-9999\n",
      "Done.\n"
     ]
    }
   ],
   "source": [
    "message = \"Call me at 415-555-1011 tomorrow. 415-555-9999 is my office.\"\n",
    "\n",
    "for i in xrange(len(message)):\n",
    "    chunk = message[i:i+12]\n",
    "    if isPhoneNumber(chunk):\n",
    "        print('Phone number found: ' + chunk)\n",
    "print('Done.')"
   ]
  },
  {
   "cell_type": "markdown",
   "metadata": {
    "slideshow": {
     "slide_type": "slide"
    }
   },
   "source": [
    "<div style=\"margin: 0 auto; max-width: 80%\">\n",
    "\n",
    "<h1>Regular Expression Syntax</h1>\n",
    "\n",
    "<p><strong>Special characters</strong></p>\n",
    "\n",
    "<ul>\n",
    "    <li><code>\\</code> &mdash; escape character</li>\n",
    "    <li><code>.</code> &mdash; match any character</li>\n",
    "    <li><code>^</code> &mdash; match beginning of string</li>\n",
    "    <li><code>$</code> &mdash; match end of string</li>\n",
    "    <li><code>[5b-d]</code> &mdash; match any of '5', 'b', 'c', 'd'</li>\n",
    "    <li><code>[^a-c6]</code> &mdash; match any <em>except</em> 'a', 'b', 'c', '6'</li>\n",
    "    <li><code>R|S</code> &mdash; match regex R or regex S</li>\n",
    "    <li><code>()</code> &mdash; create a capture group</li>\n",
    "\n",
    "</ul>\n",
    "\n",
    "</div>"
   ]
  },
  {
   "cell_type": "markdown",
   "metadata": {
    "slideshow": {
     "slide_type": "slide"
    }
   },
   "source": [
    "<div style=\"margin: 0 auto; max-width: 80%\">\n",
    "\n",
    "<h1>Regular Expression Syntax</h1>\n",
    "\n",
    "<p><strong>Quantifiers</strong></p>\n",
    "\n",
    "<ul>\n",
    "    <li><code>*</code> &mdash; zero or more</li>\n",
    "    <li><code>*?</code> &mdash; zero or more (non-greedy)</li>\n",
    "    <li><code>+</code> &mdash; one or more</li>\n",
    "    <li><code>+?</code> &mdash; one or more (non-greedy)</li>\n",
    "    <li><code>{3}</code> &mdash; exactly 3 occurrences</li>\n",
    "    <li><code>{2,4}</code> &mdash; from two to four occurrences</li>\n",
    "    <li><code>{,4}</code> &mdash; from zero to four occurrences</li>\n",
    "    <li><code>{4,}</code> &mdash; four or more occurrences</li>\n",
    "    <li><code>{2,4}+</code> &mdash; from two to four occurrences (non-greedy)</li>\n",
    "</ul>\n",
    "\n",
    "<p>A regex will generally try to match as much of a string as possible. \"Non-greedy\" means matching as little as possible instead.</p>\n",
    "\n",
    "</div>"
   ]
  },
  {
   "cell_type": "markdown",
   "metadata": {
    "slideshow": {
     "slide_type": "slide"
    }
   },
   "source": [
    "<div style=\"margin: 0 auto; max-width: 80%\">\n",
    "\n",
    "<h1>Regular Expression Syntax</h1>\n",
    "\n",
    "<p><strong>Escaped characters</strong></p>\n",
    "\n",
    "<ul>\n",
    "    <li><code>\\A</code> &mdash; start of string</li>\n",
    "    <li><code>\\b</code> &mdash; empty string at word boundary</li>\n",
    "    <li><code>\\B</code> &mdash; empty string not at word boundary</li>\n",
    "    <li><code>\\d</code> &mdash; digit character</li>\n",
    "    <li><code>\\D</code> &mdash; non-digit character</li>\n",
    "    <li><code>\\s</code> &mdash; whitespace (= <code>[ \\t\\n\\r\\f\\v]</code>)</li>\n",
    "    <li><code>\\S</code> &mdash; non-whitespace</li>\n",
    "    <li><code>\\w</code> &mdash; alphanumeric (= <code>[0-9a-zA-Z_]</code>)</li>\n",
    "    <li><code>\\W</code> &mdash; non-alphanumeric</li>\n",
    "    <li><code>\\Z</code> &mdash; end of string</li>\n",
    "</ul>\n",
    "\n",
    "</div>"
   ]
  },
  {
   "cell_type": "markdown",
   "metadata": {
    "slideshow": {
     "slide_type": "slide"
    }
   },
   "source": [
    "<div style=\"margin: 0 auto; max-width: 80%\">\n",
    "\n",
    "<h1>Regex Patterns and Raw Strings</h1>\n",
    "\n",
    "<p>Our phone number pattern can be specified with the regex pattern <code>\\d\\d\\d-\\d\\d\\d-\\d\\d\\d\\d</code>: three digits, hyphen, three digits, hyphen, four digits.</p>\n",
    "\n",
    "<p>We can shorten this to <code>\\d{3}-\\d{3}-\\d{4}</code> using quantifiers.</p>\n",
    "\n",
    "<p>But there's a problem: in Python strings, the backslash is the <strong>escape character</strong>. It signals that the next character shouldn't be interpreted literally: e.g., the Python string <code>'\\n'</code> is <strong>not</strong> a backspace character followed by an N character. It is a single newline character.</p>\n",
    "\n",
    "</div>"
   ]
  },
  {
   "cell_type": "markdown",
   "metadata": {
    "slideshow": {
     "slide_type": "slide"
    }
   },
   "source": [
    "<div style=\"margin: 0 auto; max-width: 80%\">\n",
    "\n",
    "<h1>Regex Patterns and Raw Strings</h1>\n",
    "\n",
    "<p>One way to get around this is to escape the backslashes (don't do this): <pre>'\\\\\\\\d\\\\\\\\d\\\\\\\\d-\\\\\\\\d\\\\\\\\d\\\\\\\\d-\\\\\\\\d\\\\\\\\d\\\\\\\\d\\\\\\\\d'</pre></p>\n",
    "\n",
    "<p>Another way (the most common) is to use a <strong>raw string</strong>. A raw string is prefixed by <code>r</code> (before the opening quote); backslashes in raw strings are just backslashes. <pre>r'\\d\\d\\d-\\d\\d\\d-\\d\\d\\d\\d'</pre></p>\n",
    "\n",
    "</div>"
   ]
  },
  {
   "cell_type": "code",
   "execution_count": 22,
   "metadata": {
    "collapsed": false,
    "slideshow": {
     "slide_type": "slide"
    }
   },
   "outputs": [
    {
     "name": "stdout",
     "output_type": "stream",
     "text": [
      "Phone number found: 415-555-4242\n"
     ]
    }
   ],
   "source": [
    "import re\n",
    "phoneNumRegex = re.compile(r'\\d\\d\\d-\\d\\d\\d-\\d\\d\\d\\d')\n",
    "mo = phoneNumRegex.search('My phone number is 415-555-4242.')\n",
    "print('Phone number found: ' + mo.group())"
   ]
  },
  {
   "cell_type": "markdown",
   "metadata": {
    "slideshow": {
     "slide_type": "slide"
    }
   },
   "source": [
    "<div style=\"margin: 0 auto; max-width: 80%\">\n",
    "\n",
    "<h1>Regex Matching</h1>\n",
    "\n",
    "<ol>\n",
    "    <li>Import the regex module with <code>import re</code>.</li>\n",
    "    <li>Create a regex object by calling <code>re.compile()</code> on a raw string.</li>\n",
    "    <li>Pass the string to be searched into the regex object's <code>.search()</code> method, returning a match object.</li>\n",
    "    <li>Call the match object's <code>.group()</code> method to return a string of the matched text.</li>\n",
    "</ol>\n",
    "\n",
    "</div>"
   ]
  },
  {
   "cell_type": "markdown",
   "metadata": {
    "slideshow": {
     "slide_type": "slide"
    }
   },
   "source": [
    "<div style=\"text-align: center; margin: 0 auto; max-width: 80%\">\n",
    "\n",
    "<p style=\"text-align: center;\">Are regular expressions complicated? Yes.</p>\n",
    "\n",
    "<p style=\"text-align: center;\">Don't worry about memorizing all of the escape sequences and special patterns. You can always look up those details on a case-by-case basis, as you need them. The general patterns are what's important.</p>\n",
    "\n",
    "</div>"
   ]
  },
  {
   "cell_type": "markdown",
   "metadata": {
    "slideshow": {
     "slide_type": "slide"
    }
   },
   "source": [
    "<div style=\"margin: 0 auto; max-width: 80%\">\n",
    "\n",
    "<h1>Real-life regex usage</h1>\n",
    "\n",
    "</div>"
   ]
  },
  {
   "cell_type": "markdown",
   "metadata": {
    "slideshow": {
     "slide_type": "fragment"
    }
   },
   "source": [
    "<div style=\"margin: 0 auto; max-width: 80%\">\n",
    "\n",
    "<p>Find numerals in a text...</p>\n",
    "\n",
    "</div>"
   ]
  },
  {
   "cell_type": "markdown",
   "metadata": {
    "slideshow": {
     "slide_type": "fragment"
    }
   },
   "source": [
    "<div style=\"margin: 0 auto; max-width: 80%\">\n",
    "\n",
    "<p>...and replace them with their spelled-out equivalents...</p>\n",
    "\n",
    "</div>"
   ]
  },
  {
   "cell_type": "markdown",
   "metadata": {
    "slideshow": {
     "slide_type": "fragment"
    }
   },
   "source": [
    "<div style=\"margin: 0 auto; max-width: 80%\">\n",
    "\n",
    "<p>...and by 'numerals' we mean cardinal numbers (0-9999), ordinal numbers (1st-9999th), decimals (.1, .11, .111), and times (12:34)...</p>\n",
    "\n",
    "</div>"
   ]
  },
  {
   "cell_type": "markdown",
   "metadata": {
    "slideshow": {
     "slide_type": "fragment"
    }
   },
   "source": [
    "<div style=\"margin: 0 auto; max-width: 80%\">\n",
    "\n",
    "<p>...and by 'text' we mean 'Uyghur text'...</p>\n",
    "\n",
    "</div>"
   ]
  },
  {
   "cell_type": "markdown",
   "metadata": {
    "slideshow": {
     "slide_type": "fragment"
    }
   },
   "source": [
    "<div style=\"margin: 0 auto; max-width: 80%\">\n",
    "\n",
    "<p>...and of course I don't speak Uyghur.</p>\n",
    "\n",
    "</div>"
   ]
  },
  {
   "cell_type": "markdown",
   "metadata": {
    "slideshow": {
     "slide_type": "slide"
    }
   },
   "source": [
    "<div style=\"margin: 0 auto; max-width: 80%\">\n",
    "\n",
    "<h2>Input</h2>\n",
    "\n",
    "<p><code>Aldinqi esirning 80-Yillirining otturiliridin bashlap, xitayda qiz-Oghul nisbiti arisidiki tengpungsizliq barghanséri éship bériwatqan bolup, 2020-Yilidin kéyin %10 yash erler jora tapalmaydiken, qanche kéyin tughulghan bolsa, bu ehwal shunche éghir bolidiken.</code></p>\n",
    "\n",
    "<h2>Output</h2>\n",
    "\n",
    "<p><code>Aldinqi esirning sekseninchi Yillirining otturiliridin bashlap, xitayda qiz-Oghul nisbiti arisidiki tengpungsizliq barghanséri éship bériwatqan bolup, ikki ming yigirminchi Yilidin kéyin %10 yash erler jora tapalmaydiken, qanche kéyin tughulghan bolsa, bu ehwal shunche éghir bolidiken.</code></p>\n",
    "\n",
    "</div>"
   ]
  },
  {
   "cell_type": "markdown",
   "metadata": {
    "slideshow": {
     "slide_type": "slide"
    }
   },
   "source": []
  }
 ],
 "metadata": {
  "celltoolbar": "Slideshow",
  "kernelspec": {
   "display_name": "Python 2",
   "language": "python",
   "name": "python2"
  },
  "language_info": {
   "codemirror_mode": {
    "name": "ipython",
    "version": 2
   },
   "file_extension": ".py",
   "mimetype": "text/x-python",
   "name": "python",
   "nbconvert_exporter": "python",
   "pygments_lexer": "ipython2",
   "version": "2.7.11"
  },
  "livereveal": {
   "height": 600,
   "width": 800
  }
 },
 "nbformat": 4,
 "nbformat_minor": 0
}
